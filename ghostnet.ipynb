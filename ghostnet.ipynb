{
 "cells": [
  {
   "cell_type": "markdown",
   "id": "210cbd4e",
   "metadata": {},
   "source": [
    "# Checking Cuda Environment"
   ]
  },
  {
   "cell_type": "code",
   "execution_count": 1,
   "id": "44d9bbf7",
   "metadata": {},
   "outputs": [
    {
     "name": "stdout",
     "output_type": "stream",
     "text": [
      "Found device: RTX A5000, n_gpu: 1\n",
      "Cuda version: 11.7\n",
      "n_cpu: 32\n"
     ]
    }
   ],
   "source": [
    "import torch\n",
    "import os\n",
    "\n",
    "# Confirm that the GPU is detected\n",
    "\n",
    "assert torch.cuda.is_available()\n",
    "\n",
    "# Get the GPU device name.\n",
    "device_name = torch.cuda.get_device_name()\n",
    "n_gpu = torch.cuda.device_count()\n",
    "print(f\"Found device: {device_name}, n_gpu: {n_gpu}\")\n",
    "print(f'Cuda version: {torch.version.cuda}')\n",
    "device = torch.device(\"cuda\")\n",
    "print(f'n_cpu: {os.cpu_count()}')"
   ]
  },
  {
   "cell_type": "markdown",
   "id": "8b603c0f",
   "metadata": {},
   "source": [
    "# Loading Pre-trained GhostNet"
   ]
  },
  {
   "cell_type": "code",
   "execution_count": 2,
   "id": "a788b17f",
   "metadata": {},
   "outputs": [
    {
     "name": "stdout",
     "output_type": "stream",
     "text": [
      "tensor([[ 0.1238, -0.1265, -0.0423,  ..., -0.1444, -0.1636,  0.0296],\n",
      "        [ 0.0653, -0.1379, -0.0777,  ..., -0.2142, -0.1265,  0.0395],\n",
      "        [ 0.1401, -0.1992, -0.0970,  ..., -0.1884, -0.0956, -0.0643],\n",
      "        ...,\n",
      "        [ 0.1050, -0.1748, -0.0276,  ..., -0.1166, -0.1524,  0.0597],\n",
      "        [ 0.1194, -0.0953, -0.0434,  ..., -0.0666, -0.1332, -0.0068],\n",
      "        [ 0.0598, -0.2501, -0.0839,  ..., -0.1172, -0.1511, -0.0081]],\n",
      "       grad_fn=<AddmmBackward0>)\n"
     ]
    }
   ],
   "source": [
    "import torch\n",
    "from ghostnet import ghostnet\n",
    "\n",
    "model = ghostnet(num_classes=1000, width=1.0, dropout=0.2)\n",
    "input = torch.randn(32,3,224,224)\n",
    "y = model(input)\n",
    "print(y)"
   ]
  },
  {
   "cell_type": "code",
   "execution_count": 3,
   "id": "33755ffe",
   "metadata": {},
   "outputs": [],
   "source": [
    "model.load_state_dict(torch.load('state_dict_73.98.pth'))\n",
    "model = torch.nn.DataParallel(model, device_ids = list(range(n_gpu))).cuda()"
   ]
  },
  {
   "cell_type": "code",
   "execution_count": 4,
   "id": "c45a8390",
   "metadata": {},
   "outputs": [
    {
     "name": "stdout",
     "output_type": "stream",
     "text": [
      "tensor([[ 75, 622, 527, 763, 495, 526, 120, 926, 770, 155, 935, 449, 445,  72,\n",
      "         476]], device='cuda:0')\n"
     ]
    }
   ],
   "source": [
    "from PIL import Image\n",
    "from torchvision import transforms\n",
    "import torch\n",
    "\n",
    "imsize = 224\n",
    "loader = transforms.Compose([transforms.Resize(imsize), transforms.ToTensor()])\n",
    "\n",
    "\n",
    "def load_image(img_name):\n",
    "    image = Image.open(img_name)\n",
    "    image = loader(image).float()\n",
    "    image = image.clone().detach().requires_grad_(True)\n",
    "    image = image.unsqueeze(0)\n",
    "    image = image.cuda()\n",
    "    return image\n",
    "\n",
    "# Tested on images from https://github.com/EliSchwartz/imagenet-sample-images\n",
    "images = [load_image('ImageNetData/{0}.JPEG'.format(i)) for i in ['black_widow', 'magpie_0', 'magpie_1']]\n",
    "image = images[0]\n",
    "pred = model(image)\n",
    "_, indices = torch.topk(pred, k=15)\n",
    "print(indices)"
   ]
  },
  {
   "cell_type": "markdown",
   "id": "2b774f28",
   "metadata": {},
   "source": [
    "# Changing Last Layer"
   ]
  },
  {
   "cell_type": "code",
   "execution_count": 5,
   "id": "6dfbca2f",
   "metadata": {},
   "outputs": [],
   "source": [
    "import torch.nn as nn\n",
    "\n",
    "num_classes = 8\n",
    "num_features = model.module.classifier.in_features\n",
    "new_last_layer = nn.Linear(num_features, num_classes).cuda()\n",
    "model.module.classifier = new_last_layer"
   ]
  },
  {
   "cell_type": "markdown",
   "id": "eb4e7010",
   "metadata": {},
   "source": [
    "# Fine Tuning Model"
   ]
  },
  {
   "cell_type": "code",
   "execution_count": 6,
   "id": "5d1f8768",
   "metadata": {},
   "outputs": [
    {
     "data": {
      "text/plain": [
       "torch.Size([3, 224, 224])"
      ]
     },
     "execution_count": 6,
     "metadata": {},
     "output_type": "execute_result"
    }
   ],
   "source": [
    "from timm.data import create_dataset\n",
    "\n",
    "dataset = create_dataset(name='', root='AffectNetData', transform=loader)\n",
    "image, label = dataset[10000]\n",
    "image.shape"
   ]
  },
  {
   "cell_type": "code",
   "execution_count": 7,
   "id": "5c34dcd1",
   "metadata": {},
   "outputs": [],
   "source": [
    "import torch\n",
    "from torch.utils.data import DataLoader\n",
    "\n",
    "batch_size = 64\n",
    "\n",
    "train_size = int(0.8 * len(dataset))  # 80% for training\n",
    "val_size = int(0.1 * len(dataset))   # 10% for validation\n",
    "test_size = len(dataset) - train_size - val_size  # Remaining 10% for test\n",
    "\n",
    "train_dataset, val_dataset, test_dataset = torch.utils.data.random_split(\n",
    "    dataset, [train_size, val_size, test_size])\n",
    "\n",
    "num_workers = 8\n",
    "train_loader = DataLoader(train_dataset, batch_size=batch_size, shuffle=True, num_workers=num_workers, pin_memory=True)\n",
    "val_loader = DataLoader(val_dataset, batch_size=batch_size, num_workers=num_workers)\n",
    "test_loader = DataLoader(test_dataset, batch_size=batch_size, num_workers=num_workers)"
   ]
  },
  {
   "cell_type": "code",
   "execution_count": null,
   "id": "0d75c02c",
   "metadata": {},
   "outputs": [
    {
     "name": "stderr",
     "output_type": "stream",
     "text": [
      "Epoch [0/50]: 100%|██████████| 364/364 [00:28<00:00, 12.67it/s, acc=0, loss=2.06]     "
     ]
    },
    {
     "name": "stdout",
     "output_type": "stream",
     "text": [
      "TRAINING\n",
      "loss= 1.9807201689416236 , accuracy= 0.22648818490939612\n"
     ]
    },
    {
     "name": "stderr",
     "output_type": "stream",
     "text": [
      "\n"
     ]
    },
    {
     "name": "stdout",
     "output_type": "stream",
     "text": [
      "VALIDATION\n",
      "loss= 1.8732643308846846 , accuracy= 0.2606749311294766\n"
     ]
    },
    {
     "name": "stderr",
     "output_type": "stream",
     "text": [
      "Epoch [1/50]: 100%|██████████| 364/364 [00:28<00:00, 12.97it/s, acc=0, loss=1.98]     "
     ]
    },
    {
     "name": "stdout",
     "output_type": "stream",
     "text": [
      "TRAINING\n",
      "loss= 1.7700521801854228 , accuracy= 0.3223432186975423\n"
     ]
    },
    {
     "name": "stderr",
     "output_type": "stream",
     "text": [
      "\n"
     ]
    },
    {
     "name": "stdout",
     "output_type": "stream",
     "text": [
      "VALIDATION\n",
      "loss= 1.6258460257364356 , accuracy= 0.4015151515151515\n"
     ]
    },
    {
     "name": "stderr",
     "output_type": "stream",
     "text": [
      "Epoch [2/50]: 100%|██████████| 364/364 [00:27<00:00, 13.04it/s, acc=0, loss=2.15]    "
     ]
    },
    {
     "name": "stdout",
     "output_type": "stream",
     "text": [
      "TRAINING\n",
      "loss= 1.556724306318786 , accuracy= 0.40924546980587956\n"
     ]
    },
    {
     "name": "stderr",
     "output_type": "stream",
     "text": [
      "\n"
     ]
    },
    {
     "name": "stdout",
     "output_type": "stream",
     "text": [
      "VALIDATION\n",
      "loss= 1.4450172522793645 , accuracy= 0.4621212121212121\n"
     ]
    },
    {
     "name": "stderr",
     "output_type": "stream",
     "text": [
      "Epoch [3/50]: 100%|██████████| 364/364 [00:28<00:00, 12.97it/s, acc=0, loss=2.07]    "
     ]
    },
    {
     "name": "stdout",
     "output_type": "stream",
     "text": [
      "TRAINING\n",
      "loss= 1.4078579921643812 , accuracy= 0.464339517066242\n"
     ]
    },
    {
     "name": "stderr",
     "output_type": "stream",
     "text": [
      "\n"
     ]
    },
    {
     "name": "stdout",
     "output_type": "stream",
     "text": [
      "VALIDATION\n",
      "loss= 1.3164009944252346 , accuracy= 0.4931129476584022\n"
     ]
    },
    {
     "name": "stderr",
     "output_type": "stream",
     "text": [
      "Epoch [4/50]: 100%|██████████| 364/364 [00:28<00:00, 12.95it/s, acc=1, loss=1.66]    "
     ]
    },
    {
     "name": "stdout",
     "output_type": "stream",
     "text": [
      "TRAINING\n",
      "loss= 1.3086733765654512 , accuracy= 0.500279774458744\n"
     ]
    },
    {
     "name": "stderr",
     "output_type": "stream",
     "text": [
      "\n"
     ]
    },
    {
     "name": "stdout",
     "output_type": "stream",
     "text": [
      "VALIDATION\n",
      "loss= 1.2433883029481638 , accuracy= 0.5189393939393939\n"
     ]
    },
    {
     "name": "stderr",
     "output_type": "stream",
     "text": [
      "Epoch [5/50]: 100%|██████████| 364/364 [00:28<00:00, 12.97it/s, acc=0, loss=1.95]     "
     ]
    },
    {
     "name": "stdout",
     "output_type": "stream",
     "text": [
      "TRAINING\n",
      "loss= 1.2387244948646525 , accuracy= 0.5271811647225929\n"
     ]
    },
    {
     "name": "stderr",
     "output_type": "stream",
     "text": [
      "\n"
     ]
    },
    {
     "name": "stdout",
     "output_type": "stream",
     "text": [
      "VALIDATION\n",
      "loss= 1.1807701535846875 , accuracy= 0.5440771349862259\n"
     ]
    },
    {
     "name": "stderr",
     "output_type": "stream",
     "text": [
      "Epoch [6/50]: 100%|██████████| 364/364 [00:27<00:00, 13.12it/s, acc=0, loss=2.95]     "
     ]
    },
    {
     "name": "stdout",
     "output_type": "stream",
     "text": [
      "TRAINING\n",
      "loss= 1.1861890652677516 , accuracy= 0.5481427280161839\n"
     ]
    },
    {
     "name": "stderr",
     "output_type": "stream",
     "text": [
      "\n"
     ]
    },
    {
     "name": "stdout",
     "output_type": "stream",
     "text": [
      "VALIDATION\n",
      "loss= 1.1438016995139744 , accuracy= 0.5550964187327824\n"
     ]
    },
    {
     "name": "stderr",
     "output_type": "stream",
     "text": [
      "Epoch [7/50]: 100%|██████████| 364/364 [00:27<00:00, 13.00it/s, acc=1, loss=1.26]     "
     ]
    },
    {
     "name": "stdout",
     "output_type": "stream",
     "text": [
      "TRAINING\n",
      "loss= 1.1410255833314016 , accuracy= 0.5626479576464511\n"
     ]
    },
    {
     "name": "stderr",
     "output_type": "stream",
     "text": [
      "\n"
     ]
    },
    {
     "name": "stdout",
     "output_type": "stream",
     "text": [
      "VALIDATION\n",
      "loss= 1.1042443954426309 , accuracy= 0.5740358126721763\n"
     ]
    },
    {
     "name": "stderr",
     "output_type": "stream",
     "text": [
      "Epoch [8/50]: 100%|██████████| 364/364 [00:28<00:00, 12.96it/s, acc=0, loss=2.16]     "
     ]
    },
    {
     "name": "stdout",
     "output_type": "stream",
     "text": [
      "TRAINING\n",
      "loss= 1.1072476321196818 , accuracy= 0.57538845607541\n"
     ]
    },
    {
     "name": "stderr",
     "output_type": "stream",
     "text": [
      "\n"
     ]
    },
    {
     "name": "stdout",
     "output_type": "stream",
     "text": [
      "VALIDATION\n",
      "loss= 1.0794709169346353 , accuracy= 0.5823002754820936\n"
     ]
    },
    {
     "name": "stderr",
     "output_type": "stream",
     "text": [
      "Epoch [9/50]: 100%|██████████| 364/364 [00:27<00:00, 13.09it/s, acc=1, loss=1.64]     "
     ]
    },
    {
     "name": "stdout",
     "output_type": "stream",
     "text": [
      "TRAINING\n",
      "loss= 1.0716184631481276 , accuracy= 0.5910558257650755\n"
     ]
    },
    {
     "name": "stderr",
     "output_type": "stream",
     "text": [
      "\n"
     ]
    },
    {
     "name": "stdout",
     "output_type": "stream",
     "text": [
      "VALIDATION\n",
      "loss= 1.0557786692743716 , accuracy= 0.5946969696969697\n"
     ]
    },
    {
     "name": "stderr",
     "output_type": "stream",
     "text": [
      "Epoch [10/50]: 100%|██████████| 364/364 [00:27<00:00, 13.07it/s, acc=0, loss=1.74]     "
     ]
    },
    {
     "name": "stdout",
     "output_type": "stream",
     "text": [
      "TRAINING\n",
      "loss= 1.0413691506281004 , accuracy= 0.6032367752765463\n"
     ]
    },
    {
     "name": "stderr",
     "output_type": "stream",
     "text": [
      "\n"
     ]
    },
    {
     "name": "stdout",
     "output_type": "stream",
     "text": [
      "VALIDATION\n",
      "loss= 1.0297911465168 , accuracy= 0.6053719008264463\n"
     ]
    },
    {
     "name": "stderr",
     "output_type": "stream",
     "text": [
      "Epoch [11/50]: 100%|██████████| 364/364 [00:27<00:00, 13.01it/s, acc=0, loss=2.03]     "
     ]
    },
    {
     "name": "stdout",
     "output_type": "stream",
     "text": [
      "TRAINING\n",
      "loss= 1.011223668253029 , accuracy= 0.6178711315800801\n"
     ]
    },
    {
     "name": "stderr",
     "output_type": "stream",
     "text": [
      "\n"
     ]
    },
    {
     "name": "stdout",
     "output_type": "stream",
     "text": [
      "VALIDATION\n",
      "loss= 1.0092963913212651 , accuracy= 0.615358126721763\n"
     ]
    },
    {
     "name": "stderr",
     "output_type": "stream",
     "text": [
      "Epoch [12/50]: 100%|██████████| 364/364 [00:27<00:00, 13.04it/s, acc=0, loss=1.95]     "
     ]
    },
    {
     "name": "stdout",
     "output_type": "stream",
     "text": [
      "TRAINING\n",
      "loss= 0.9888360596947617 , accuracy= 0.6272543365041106\n"
     ]
    },
    {
     "name": "stderr",
     "output_type": "stream",
     "text": [
      "\n"
     ]
    },
    {
     "name": "stdout",
     "output_type": "stream",
     "text": [
      "VALIDATION\n",
      "loss= 0.9914849361647731 , accuracy= 0.6198347107438017\n"
     ]
    },
    {
     "name": "stderr",
     "output_type": "stream",
     "text": [
      "Epoch [13/50]: 100%|██████████| 364/364 [00:27<00:00, 13.05it/s, acc=0, loss=1.93]     \n"
     ]
    },
    {
     "name": "stdout",
     "output_type": "stream",
     "text": [
      "TRAINING\n",
      "loss= 0.9671441231455121 , accuracy= 0.6363362458571858\n",
      "VALIDATION\n",
      "loss= 0.9815717196982839 , accuracy= 0.6222451790633609\n"
     ]
    },
    {
     "name": "stderr",
     "output_type": "stream",
     "text": [
      "Epoch [14/50]: 100%|██████████| 364/364 [00:28<00:00, 12.98it/s, acc=0, loss=2.22]     "
     ]
    },
    {
     "name": "stdout",
     "output_type": "stream",
     "text": [
      "TRAINING\n",
      "loss= 0.9421876179320472 , accuracy= 0.645332070761417\n"
     ]
    },
    {
     "name": "stderr",
     "output_type": "stream",
     "text": [
      "\n"
     ]
    },
    {
     "name": "stdout",
     "output_type": "stream",
     "text": [
      "VALIDATION\n",
      "loss= 0.9641928595045338 , accuracy= 0.6339531680440771\n"
     ]
    },
    {
     "name": "stderr",
     "output_type": "stream",
     "text": [
      "Epoch [15/50]: 100%|██████████| 364/364 [00:27<00:00, 13.08it/s, acc=0, loss=1.77]     "
     ]
    },
    {
     "name": "stdout",
     "output_type": "stream",
     "text": [
      "TRAINING\n",
      "loss= 0.9205712538499099 , accuracy= 0.6529505444841389\n"
     ]
    },
    {
     "name": "stderr",
     "output_type": "stream",
     "text": [
      "\n"
     ]
    },
    {
     "name": "stdout",
     "output_type": "stream",
     "text": [
      "VALIDATION\n",
      "loss= 0.9549194561398547 , accuracy= 0.640495867768595\n"
     ]
    },
    {
     "name": "stderr",
     "output_type": "stream",
     "text": [
      "Epoch [16/50]: 100%|██████████| 364/364 [00:27<00:00, 13.01it/s, acc=0, loss=2.01]     "
     ]
    },
    {
     "name": "stdout",
     "output_type": "stream",
     "text": [
      "TRAINING\n",
      "loss= 0.9028606719368106 , accuracy= 0.6634958894675677\n"
     ]
    },
    {
     "name": "stderr",
     "output_type": "stream",
     "text": [
      "\n"
     ]
    },
    {
     "name": "stdout",
     "output_type": "stream",
     "text": [
      "VALIDATION\n",
      "loss= 0.9512639460356339 , accuracy= 0.6432506887052342\n"
     ]
    },
    {
     "name": "stderr",
     "output_type": "stream",
     "text": [
      "Epoch [17/50]: 100%|██████████| 364/364 [00:27<00:00, 13.09it/s, acc=0, loss=1.97]     \n"
     ]
    },
    {
     "name": "stdout",
     "output_type": "stream",
     "text": [
      "TRAINING\n",
      "loss= 0.8831740303353949 , accuracy= 0.6716739121077777\n",
      "VALIDATION\n",
      "loss= 0.9381331257198168 , accuracy= 0.6446280991735537\n"
     ]
    },
    {
     "name": "stderr",
     "output_type": "stream",
     "text": [
      "Epoch [18/50]: 100%|██████████| 364/364 [00:28<00:00, 12.94it/s, acc=0, loss=2.03]     "
     ]
    },
    {
     "name": "stdout",
     "output_type": "stream",
     "text": [
      "TRAINING\n",
      "loss= 0.8647588403015346 , accuracy= 0.6784745835664787\n"
     ]
    },
    {
     "name": "stderr",
     "output_type": "stream",
     "text": [
      "\n"
     ]
    },
    {
     "name": "stdout",
     "output_type": "stream",
     "text": [
      "VALIDATION\n",
      "loss= 0.9363621175289154 , accuracy= 0.650137741046832\n"
     ]
    },
    {
     "name": "stderr",
     "output_type": "stream",
     "text": [
      "Epoch [19/50]: 100%|██████████| 364/364 [00:27<00:00, 13.03it/s, acc=0, loss=1.93]     "
     ]
    },
    {
     "name": "stdout",
     "output_type": "stream",
     "text": [
      "TRAINING\n",
      "loss= 0.8463391355433307 , accuracy= 0.6837687771704042\n"
     ]
    },
    {
     "name": "stderr",
     "output_type": "stream",
     "text": [
      "\n"
     ]
    },
    {
     "name": "stdout",
     "output_type": "stream",
     "text": [
      "VALIDATION\n",
      "loss= 0.9180568702842878 , accuracy= 0.6515151515151515\n"
     ]
    },
    {
     "name": "stderr",
     "output_type": "stream",
     "text": [
      "Epoch [20/50]: 100%|██████████| 364/364 [00:27<00:00, 13.00it/s, acc=0, loss=2.47]     "
     ]
    },
    {
     "name": "stdout",
     "output_type": "stream",
     "text": [
      "TRAINING\n",
      "loss= 0.8306738018662065 , accuracy= 0.6947445443980544\n"
     ]
    },
    {
     "name": "stderr",
     "output_type": "stream",
     "text": [
      "\n"
     ]
    },
    {
     "name": "stdout",
     "output_type": "stream",
     "text": [
      "VALIDATION\n",
      "loss= 0.9072837609311809 , accuracy= 0.6580578512396694\n"
     ]
    },
    {
     "name": "stderr",
     "output_type": "stream",
     "text": [
      "Epoch [21/50]: 100%|██████████| 364/364 [00:27<00:00, 13.05it/s, acc=0, loss=2.06]     "
     ]
    },
    {
     "name": "stdout",
     "output_type": "stream",
     "text": [
      "TRAINING\n",
      "loss= 0.8114945027199421 , accuracy= 0.7007274135927345\n"
     ]
    },
    {
     "name": "stderr",
     "output_type": "stream",
     "text": [
      "\n"
     ]
    },
    {
     "name": "stdout",
     "output_type": "stream",
     "text": [
      "VALIDATION\n",
      "loss= 0.9159944485063138 , accuracy= 0.6608126721763086\n"
     ]
    },
    {
     "name": "stderr",
     "output_type": "stream",
     "text": [
      "Epoch [22/50]: 100%|██████████| 364/364 [00:28<00:00, 12.97it/s, acc=0, loss=1.91]     "
     ]
    },
    {
     "name": "stdout",
     "output_type": "stream",
     "text": [
      "TRAINING\n",
      "loss= 0.7957354124103274 , accuracy= 0.7065381138897259\n"
     ]
    },
    {
     "name": "stderr",
     "output_type": "stream",
     "text": [
      "\n"
     ]
    },
    {
     "name": "stdout",
     "output_type": "stream",
     "text": [
      "VALIDATION\n",
      "loss= 0.8962853745273922 , accuracy= 0.6663223140495868\n"
     ]
    },
    {
     "name": "stderr",
     "output_type": "stream",
     "text": [
      "Epoch [23/50]: 100%|██████████| 364/364 [00:27<00:00, 13.03it/s, acc=0, loss=2.29]     "
     ]
    },
    {
     "name": "stdout",
     "output_type": "stream",
     "text": [
      "TRAINING\n",
      "loss= 0.7798950600100087 , accuracy= 0.7159213188137563\n"
     ]
    },
    {
     "name": "stderr",
     "output_type": "stream",
     "text": [
      "\n"
     ]
    },
    {
     "name": "stdout",
     "output_type": "stream",
     "text": [
      "VALIDATION\n",
      "loss= 0.895241133544756 , accuracy= 0.6621900826446281\n"
     ]
    },
    {
     "name": "stderr",
     "output_type": "stream",
     "text": [
      "Epoch [24/50]: 100%|██████████| 364/364 [00:27<00:00, 13.04it/s, acc=0, loss=2.08]     "
     ]
    },
    {
     "name": "stdout",
     "output_type": "stream",
     "text": [
      "TRAINING\n",
      "loss= 0.7642931098957638 , accuracy= 0.72018249903155\n"
     ]
    },
    {
     "name": "stderr",
     "output_type": "stream",
     "text": [
      "\n"
     ]
    },
    {
     "name": "stdout",
     "output_type": "stream",
     "text": [
      "VALIDATION\n",
      "loss= 0.8961051793202109 , accuracy= 0.6611570247933884\n"
     ]
    },
    {
     "name": "stderr",
     "output_type": "stream",
     "text": [
      "Epoch [25/50]: 100%|██████████| 364/364 [00:27<00:00, 13.08it/s, acc=1, loss=1.53]     \n"
     ]
    },
    {
     "name": "stdout",
     "output_type": "stream",
     "text": [
      "TRAINING\n",
      "loss= 0.7446555925922079 , accuracy= 0.7271122971635174\n",
      "VALIDATION\n",
      "loss= 0.8916741959426714 , accuracy= 0.6745867768595041\n"
     ]
    },
    {
     "name": "stderr",
     "output_type": "stream",
     "text": [
      "Epoch [26/50]: 100%|██████████| 364/364 [00:27<00:00, 13.03it/s, acc=0, loss=1.68]     "
     ]
    },
    {
     "name": "stdout",
     "output_type": "stream",
     "text": [
      "TRAINING\n",
      "loss= 0.7284677853132342 , accuracy= 0.732707786338398\n"
     ]
    },
    {
     "name": "stderr",
     "output_type": "stream",
     "text": [
      "\n"
     ]
    },
    {
     "name": "stdout",
     "output_type": "stream",
     "text": [
      "VALIDATION\n",
      "loss= 0.895396765159524 , accuracy= 0.6701101928374655\n"
     ]
    },
    {
     "name": "stderr",
     "output_type": "stream",
     "text": [
      "Epoch [27/50]: 100%|██████████| 364/364 [00:28<00:00, 12.98it/s, acc=0, loss=1.86]     "
     ]
    },
    {
     "name": "stdout",
     "output_type": "stream",
     "text": [
      "TRAINING\n",
      "loss= 0.7118394685970558 , accuracy= 0.7423062023845393\n"
     ]
    },
    {
     "name": "stderr",
     "output_type": "stream",
     "text": [
      "\n"
     ]
    },
    {
     "name": "stdout",
     "output_type": "stream",
     "text": [
      "VALIDATION\n",
      "loss= 0.8879162176795627 , accuracy= 0.6707988980716253\n"
     ]
    },
    {
     "name": "stderr",
     "output_type": "stream",
     "text": [
      "Epoch [28/50]: 100%|██████████| 364/364 [00:27<00:00, 13.02it/s, acc=0, loss=2.06]     "
     ]
    },
    {
     "name": "stdout",
     "output_type": "stream",
     "text": [
      "TRAINING\n",
      "loss= 0.6974975886744458 , accuracy= 0.7484612404769079\n"
     ]
    },
    {
     "name": "stderr",
     "output_type": "stream",
     "text": [
      "\n"
     ]
    },
    {
     "name": "stdout",
     "output_type": "stream",
     "text": [
      "VALIDATION\n",
      "loss= 0.9058477943358214 , accuracy= 0.6670110192837465\n"
     ]
    },
    {
     "name": "stderr",
     "output_type": "stream",
     "text": [
      "Epoch [29/50]: 100%|██████████| 364/364 [00:27<00:00, 13.05it/s, acc=0, loss=1.69]     "
     ]
    },
    {
     "name": "stdout",
     "output_type": "stream",
     "text": [
      "TRAINING\n",
      "loss= 0.6840351925610186 , accuracy= 0.7533680540610339\n"
     ]
    },
    {
     "name": "stderr",
     "output_type": "stream",
     "text": [
      "\n"
     ]
    },
    {
     "name": "stdout",
     "output_type": "stream",
     "text": [
      "VALIDATION\n",
      "loss= 0.897302420242973 , accuracy= 0.671831955922865\n"
     ]
    },
    {
     "name": "stderr",
     "output_type": "stream",
     "text": [
      "Epoch [30/50]: 100%|██████████| 364/364 [00:27<00:00, 13.04it/s, acc=1, loss=1.41]     "
     ]
    },
    {
     "name": "stdout",
     "output_type": "stream",
     "text": [
      "TRAINING\n",
      "loss= 0.6664270714416609 , accuracy= 0.7583609520940042\n"
     ]
    },
    {
     "name": "stderr",
     "output_type": "stream",
     "text": [
      "\n"
     ]
    },
    {
     "name": "stdout",
     "output_type": "stream",
     "text": [
      "VALIDATION\n",
      "loss= 0.8914048516232035 , accuracy= 0.6694214876033058\n"
     ]
    },
    {
     "name": "stderr",
     "output_type": "stream",
     "text": [
      "Epoch [31/50]: 100%|██████████| 364/364 [00:27<00:00, 13.04it/s, acc=0, loss=2.25]     "
     ]
    },
    {
     "name": "stdout",
     "output_type": "stream",
     "text": [
      "TRAINING\n",
      "loss= 0.6492084209080581 , accuracy= 0.7664959325097921\n"
     ]
    },
    {
     "name": "stderr",
     "output_type": "stream",
     "text": [
      "\n"
     ]
    },
    {
     "name": "stdout",
     "output_type": "stream",
     "text": [
      "VALIDATION\n",
      "loss= 0.8956508053385693 , accuracy= 0.6773415977961432\n"
     ]
    },
    {
     "name": "stderr",
     "output_type": "stream",
     "text": [
      "Epoch [32/50]:  18%|█▊        | 65/364 [00:05<00:22, 13.25it/s, acc=0.844, loss=0.481]"
     ]
    }
   ],
   "source": [
    "from tqdm import tqdm\n",
    "import copy\n",
    "# import warnings \n",
    "\n",
    "# warnings.filterwarnings(\"ignore\")\n",
    "\n",
    "num_epochs = 50\n",
    "loss_fn = torch.nn.CrossEntropyLoss().cuda()\n",
    "optimizer = torch.optim.RMSprop(filter(lambda p: p.requires_grad, model.parameters()), lr=0.00001, weight_decay=0.01)\n",
    "# optimizer=torch.optim.Adam(filter(lambda p: p.requires_grad, model.parameters()), lr=0.001)\n",
    "\n",
    "best_acc=0\n",
    "best_model=None\n",
    "\n",
    "for epoch in range(num_epochs):\n",
    "    model.train()\n",
    "    total_samples = 0\n",
    "    correct_predictions = 0\n",
    "    total_loss = 0\n",
    "    \n",
    "    loop = tqdm(train_loader)\n",
    "    for images, labels in loop:\n",
    "        optimizer.zero_grad()\n",
    "\n",
    "        outputs = model(images)\n",
    "        _, predicted = torch.max(outputs, dim=1)\n",
    "        loss = loss_fn(outputs, labels.cuda())\n",
    "        \n",
    "        total_samples += labels.size(0)\n",
    "        correct_predictions += (predicted == labels.cuda()).sum().item()\n",
    "        total_loss += loss.item()\n",
    "\n",
    "        loss.backward()\n",
    "        optimizer.step()\n",
    "        \n",
    "        loop.set_description(f\"Epoch [{epoch}/{num_epochs}]\")\n",
    "        loop.set_postfix(loss=loss.item(), acc=(predicted == labels.cuda()).sum().item()/labels.size(0))\n",
    "        \n",
    "    avg_loss = total_loss / len(train_loader)\n",
    "    avg_acc = correct_predictions / total_samples\n",
    "    print(\"TRAINING\")\n",
    "    print(\"loss=\", avg_loss, \", accuracy=\", avg_acc)\n",
    "    \n",
    "#     if epoch % 20 == 0:\n",
    "#         torch.save(model.state_dict(), f'ghostnet_checkpoints/checkpoint_{epoch}.pth')\n",
    "    \n",
    "    total_samples = 0\n",
    "    correct_predictions = 0\n",
    "    total_loss = 0\n",
    "    model.eval()\n",
    "    with torch.no_grad():\n",
    "        epoch_val_accuracy = 0\n",
    "        epoch_val_loss = 0\n",
    "        for images, labels in val_loader:\n",
    "            outputs = model(images)\n",
    "            _, predicted = torch.max(outputs, dim=1)\n",
    "            loss = loss_fn(outputs, labels.cuda())\n",
    "\n",
    "            total_samples += labels.size(0)\n",
    "            correct_predictions += (predicted == labels.cuda()).sum().item()\n",
    "            total_loss += loss.item()\n",
    "\n",
    "    avg_loss = total_loss / len(val_loader)\n",
    "    avg_acc = correct_predictions / total_samples\n",
    "    print(\"VALIDATION\")\n",
    "    print(\"loss=\", avg_loss, \", accuracy=\", avg_acc)\n",
    "\n",
    "    if best_acc < avg_acc:\n",
    "        best_acc = avg_acc\n",
    "        best_model=copy.deepcopy(model.state_dict())\n",
    "        torch.save(model.state_dict(), f'ghostnet_checkpoints/checkpoint_model.pth')"
   ]
  },
  {
   "cell_type": "markdown",
   "id": "725a9796",
   "metadata": {},
   "source": [
    "# Testing Model"
   ]
  },
  {
   "cell_type": "code",
   "execution_count": 11,
   "id": "6ab1d6f4",
   "metadata": {},
   "outputs": [
    {
     "name": "stdout",
     "output_type": "stream",
     "text": [
      "Best Validation acc:0.65633608815427\n",
      "TESTING\n",
      "loss= 1.0011567758477253 , accuracy= 0.6444061962134251\n"
     ]
    }
   ],
   "source": [
    "if best_model is not None:\n",
    "    model.load_state_dict(best_model)\n",
    "    print(f\"Best Validation acc:{best_acc}\")\n",
    "\n",
    "    total_samples = 0\n",
    "    correct_predictions = 0\n",
    "    total_loss = 0\n",
    "    model.eval()\n",
    "    with torch.no_grad():\n",
    "        epoch_val_accuracy = 0\n",
    "        epoch_val_loss = 0\n",
    "        for images, labels in test_loader:\n",
    "            outputs = model(images)\n",
    "            _, predicted = torch.max(outputs, dim=1)\n",
    "            loss = loss_fn(outputs, labels.cuda())\n",
    "\n",
    "            total_samples += labels.size(0)\n",
    "            correct_predictions += (predicted == labels.cuda()).sum().item()\n",
    "            total_loss += loss.item()\n",
    "\n",
    "    avg_loss = total_loss / len(test_loader)\n",
    "    avg_acc = correct_predictions / total_samples\n",
    "    print(\"TESTING\")\n",
    "    print(\"loss=\", avg_loss, \", accuracy=\", avg_acc)\n",
    "    \n",
    "    torch.save(best_model, f'ghostnet_checkpoints/best_model_0.pth')\n",
    "else:\n",
    "    print(f\"No best model Best acc:{best_acc}\")"
   ]
  },
  {
   "cell_type": "code",
   "execution_count": null,
   "id": "4dcab906",
   "metadata": {},
   "outputs": [],
   "source": [
    "# Replace all ReLU activations with PReLU activations\n",
    "for name, module in model.named_modules():\n",
    "    if isinstance(module, nn.ReLU):\n",
    "        setattr(model, name, nn.PReLU())"
   ]
  }
 ],
 "metadata": {
  "kernelspec": {
   "display_name": "Python 3 (ipykernel)",
   "language": "python",
   "name": "python3"
  },
  "language_info": {
   "codemirror_mode": {
    "name": "ipython",
    "version": 3
   },
   "file_extension": ".py",
   "mimetype": "text/x-python",
   "name": "python",
   "nbconvert_exporter": "python",
   "pygments_lexer": "ipython3",
   "version": "3.9.5"
  }
 },
 "nbformat": 4,
 "nbformat_minor": 5
}
